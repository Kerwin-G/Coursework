{
  "nbformat": 4,
  "nbformat_minor": 0,
  "metadata": {
    "colab": {
      "name": "SimpleSeqOp(0317).ipynb",
      "provenance": [],
      "collapsed_sections": [],
      "authorship_tag": "ABX9TyM1hVG7iBdZmsFu0mbkiTGE",
      "include_colab_link": true
    },
    "kernelspec": {
      "name": "python3",
      "display_name": "Python 3"
    },
    "language_info": {
      "name": "python"
    }
  },
  "cells": [
    {
      "cell_type": "markdown",
      "metadata": {
        "id": "view-in-github",
        "colab_type": "text"
      },
      "source": [
        "<a href=\"https://colab.research.google.com/github/Kerwin-G/Coursework/blob/main/SimpleSeqOp(0317).ipynb\" target=\"_parent\"><img src=\"https://colab.research.google.com/assets/colab-badge.svg\" alt=\"Open In Colab\"/></a>"
      ]
    },
    {
      "cell_type": "markdown",
      "metadata": {
        "id": "sisTpRs55-gL"
      },
      "source": [
        "**The Code Below Contains:**\n",
        "\n",
        "*   GC Content & translation using Seq\n",
        "*   genbank file assessment\n",
        "*   Entrez Search\n",
        "\n"
      ]
    },
    {
      "cell_type": "code",
      "metadata": {
        "id": "2JCntBeEWnVd",
        "colab": {
          "base_uri": "https://localhost:8080/"
        },
        "outputId": "b79ac98a-9fbb-4e64-aa50-e247a08b63bb"
      },
      "source": [
        "!pip install biopython\n"
      ],
      "execution_count": null,
      "outputs": [
        {
          "output_type": "stream",
          "text": [
            "Requirement already satisfied: biopython in /usr/local/lib/python3.7/dist-packages (1.78)\n",
            "Requirement already satisfied: numpy in /usr/local/lib/python3.7/dist-packages (from biopython) (1.19.5)\n"
          ],
          "name": "stdout"
        }
      ]
    },
    {
      "cell_type": "code",
      "metadata": {
        "colab": {
          "base_uri": "https://localhost:8080/"
        },
        "id": "VcqEN32Okfdw",
        "outputId": "1b574000-f6e0-4870-e9ed-462a29e186f8"
      },
      "source": [
        "#GC Content & translation using Seq\n",
        "from Bio.Seq import Seq\n",
        "from Bio.SeqUtils import GC\n",
        "\n",
        "first_seq=Seq('GAATCTATCATATATGAGAAGATATTTACTCAA')\n",
        "second_seq=Seq('CCATTGTCTTAAACCGACTTATCTTTTCTGCTTGTAGAT')\n",
        "print(\"The amount of A's in the first sequence is: \", first_seq.count(\"A\"), \"The GC content is: \",GC(first_seq))\n",
        "print(\"The amount of A's in the second sequence is:\", second_seq.count(\"A\"), \"The GC content is: \", GC(second_seq))\n",
        "full_seq= first_seq + second_seq\n",
        "mRNA=full_seq.transcribe()\n",
        "print(\"Messenger RNA sequence: \", mRNA)\n",
        "prot1=mRNA.translate(table=1)\n",
        "prot2=mRNA.translate(table=2)\n",
        "print(\"Translation from table 1: \",prot1)\n",
        "print(\"Translation from table 2: \",prot2)\n",
        "#The Potein Differ, we find M as the 4th and 8th letter in sequence 2(using table 2) and those are I in sequence 1(using table 1)"
      ],
      "execution_count": null,
      "outputs": [
        {
          "output_type": "stream",
          "text": [
            "The amount of A's in the first sequence is:  14 The GC content is:  24.242424242424242\n",
            "The amount of A's in the second sequence is: 8 The GC content is:  35.8974358974359\n",
            "Messenger RNA sequence:  GAAUCUAUCAUAUAUGAGAAGAUAUUUACUCAACCAUUGUCUUAAACCGACUUAUCUUUUCUGCUUGUAGAU\n",
            "Translation from table 1:  ESIIYEKIFTQPLS*TDLSFLLVD\n",
            "Translation from table 2:  ESIMYEKMFTQPLS*TDLSFLLVD\n"
          ],
          "name": "stdout"
        }
      ]
    },
    {
      "cell_type": "code",
      "metadata": {
        "colab": {
          "base_uri": "https://localhost:8080/"
        },
        "id": "kV4Ii2vrshPw",
        "outputId": "bcd9f3f3-1cba-43a9-bae7-57cc4f8e1e6d"
      },
      "source": [
        "#genbank file assessment\n",
        "from Bio import SeqIO\n",
        "\n",
        "for seq_record.object in SeqIO.parse(\"SCU49845.gb\",\"genbank\"):\n",
        "  print(seq_record.object) #All attributes\n",
        "  print(len(seq_record)) #Length\n",
        "  print(type(seq_record)) #type=class\n",
        "\n",
        "recs=list(SeqIO.parse(\"SCU49845.gb\",\"genbank\"))\n",
        "print(len(recs)) #the amount of records in file\n"
      ],
      "execution_count": null,
      "outputs": [
        {
          "output_type": "stream",
          "text": [
            "ID: U49845.1\n",
            "Name: SCU49845\n",
            "Description: Saccharomyces cerevisiae TCP1-beta gene, partial cds; and Axl2p (AXL2) and Rev7p (REV7) genes, complete cds\n",
            "Number of features: 9\n",
            "/molecule_type=DNA\n",
            "/topology=linear\n",
            "/data_file_division=PLN\n",
            "/date=29-OCT-2018\n",
            "/accessions=['U49845']\n",
            "/sequence_version=1\n",
            "/keywords=['']\n",
            "/source=Saccharomyces cerevisiae (baker's yeast)\n",
            "/organism=Saccharomyces cerevisiae\n",
            "/taxonomy=['Eukaryota', 'Fungi', 'Dikarya', 'Ascomycota', 'Saccharomycotina', 'Saccharomycetes', 'Saccharomycetales', 'Saccharomycetaceae', 'Saccharomyces']\n",
            "/references=[Reference(title='Selection of axial growth sites in yeast requires Axl2p, a novel plasma membrane glycoprotein', ...), Reference(title='Direct Submission', ...)]\n",
            "Seq('GATCCTCCATATACAACGGTATCTCCACCTCAGGTTTAGATCTCAACAACGGAA...ATC')\n",
            "5028\n",
            "<class 'Bio.SeqRecord.SeqRecord'>\n",
            "1\n"
          ],
          "name": "stdout"
        }
      ]
    },
    {
      "cell_type": "code",
      "metadata": {
        "id": "a5ynpXEGp5a8"
      },
      "source": [
        ""
      ],
      "execution_count": null,
      "outputs": []
    },
    {
      "cell_type": "code",
      "metadata": {
        "colab": {
          "base_uri": "https://localhost:8080/"
        },
        "id": "vxyXDAx5xfRc",
        "outputId": "d4512467-8935-4239-ebc7-440fc26d22da"
      },
      "source": [
        "#genbank file assessment\n",
        "\n",
        "from Bio import SeqIO\n",
        "\n",
        "records=list(SeqIO.parse(\"multi-genbank.gb\",\"genbank\"))\n",
        "print(\"Found %i records\" % len(records))\n",
        "\n",
        "record_iterator = SeqIO.parse(\"multi-genbank.gb\",\"genbank\")\n",
        "first_record=next(record_iterator)\n",
        "#print(first_record.id)\n",
        "second_record=next(record_iterator)\n",
        "print(second_record.annotations[\"organism\"])\n",
        "third_record=next(record_iterator)\n",
        "print(third_record.annotations[\"organism\"])\n",
        "print(second_record.annotations.keys())\n",
        "print(\"The annotations dictionary has %i keys\" % len(second_record.annotations.keys()))\n",
        "\n"
      ],
      "execution_count": null,
      "outputs": [
        {
          "output_type": "stream",
          "text": [
            "Found 3 records\n",
            "Locusta migratoria\n",
            "Saccharomyces cerevisiae\n",
            "dict_keys(['molecule_type', 'topology', 'data_file_division', 'date', 'accessions', 'sequence_version', 'keywords', 'source', 'organism', 'taxonomy', 'references', 'structured_comment'])\n",
            "The annotations dictionary has 12 keys\n"
          ],
          "name": "stdout"
        }
      ]
    },
    {
      "cell_type": "code",
      "metadata": {
        "colab": {
          "base_uri": "https://localhost:8080/"
        },
        "id": "nIk6bIBh79Xq",
        "outputId": "4704f91c-076e-483e-def2-cc23e84e21b0"
      },
      "source": [
        "#Entrez Search\n",
        "from Bio import Entrez\n",
        "from Bio import SeqIO\n",
        "\n",
        "orgList=[] #initializing list\n",
        "Entrez.email = \"Kerwin.George14@myhunter.cuny.edu\"\n",
        "with Entrez.efetch(\n",
        "    db=\"nucleotide\", rettype=\"gb\", retmode=\"text\", id=\"19304878,14630660\"\n",
        ") as handle:\n",
        "    for seq_record in SeqIO.parse(handle, \"gb\"):\n",
        "      print(seq_record.id)\n",
        "      keys=seq_record.annotations.keys()\n",
        "      myDict={x:seq_record.annotations[x] for x in keys} #creating dictionary from annotations\n",
        "      orgList+=[myDict] #creating list\n",
        "print(\"Annotations for 19304878: \",orgList[0]) #First organism\n",
        "print(\"Annotations for 14630660: \",orgList[1]) #second organism\n",
        "print(orgList) #organisms as two elements of array"
      ],
      "execution_count": null,
      "outputs": [
        {
          "output_type": "stream",
          "text": [
            "BJ393792.1\n",
            "BI164854.1\n",
            "Annotations for 19304878:  {'molecule_type': 'mRNA', 'topology': 'linear', 'data_file_division': 'EST', 'date': '24-NOV-2008', 'accessions': ['BJ393792'], 'sequence_version': 1, 'keywords': ['EST'], 'source': 'Dictyostelium discoideum', 'organism': 'Dictyostelium discoideum', 'taxonomy': ['Eukaryota', 'Amoebozoa', 'Evosea', 'Eumycetozoa', 'Dictyostelia', 'Dictyosteliales', 'Dictyosteliaceae', 'Dictyostelium'], 'references': [Reference(title='Full length cDNA of Dictyostelium discoideum at the slug stage', ...)], 'comment': 'Contact: Tadasu Shin-i\\nGenome Biology Lab., Center For Genetic Resource Information\\nNational Institute of Genetics\\n1111 Yata, Mishima, Shizuoka 411-8540, Japan\\nTel: 81-55-981-6856\\nFax: 81-55-981-6855\\nEmail: tshini@genes.nig.ac.jp, URL: http://dolphin.lab.nig.ac.jp.'}\n",
            "Annotations for 14630660:  {'molecule_type': 'mRNA', 'topology': 'linear', 'data_file_division': 'EST', 'date': '09-JUL-2001', 'accessions': ['BI164854'], 'sequence_version': 1, 'keywords': ['EST'], 'source': 'Drosophila melanogaster (fruit fly)', 'organism': 'Drosophila melanogaster', 'taxonomy': ['Eukaryota', 'Metazoa', 'Ecdysozoa', 'Arthropoda', 'Hexapoda', 'Insecta', 'Pterygota', 'Neoptera', 'Holometabola', 'Diptera', 'Brachycera', 'Muscomorpha', 'Ephydroidea', 'Drosophilidae', 'Drosophila', 'Sophophora'], 'references': [Reference(title='BDGP/HHMI RE Drosophila EST Project', ...)], 'comment': 'Contact: Carlson, J.\\nBDGP\\nLawrence Berkeley National Lab\\nOne Cyclotron Rd, Berkeley, CA 94720, USA\\nFax: 510 486 7571\\nEmail: http://www.fruitfly.org/EST/index.shtml, cdna@fruitfly.org\\nhit genomic AE003613: arm:2L [6134950,6396821]\\nestimated-cyto:26B11-26D7: 04/11/2001\\nPlate: RE.46  row: A  column: 12\\nHigh quality sequence stop: 399.'}\n",
            "[{'molecule_type': 'mRNA', 'topology': 'linear', 'data_file_division': 'EST', 'date': '24-NOV-2008', 'accessions': ['BJ393792'], 'sequence_version': 1, 'keywords': ['EST'], 'source': 'Dictyostelium discoideum', 'organism': 'Dictyostelium discoideum', 'taxonomy': ['Eukaryota', 'Amoebozoa', 'Evosea', 'Eumycetozoa', 'Dictyostelia', 'Dictyosteliales', 'Dictyosteliaceae', 'Dictyostelium'], 'references': [Reference(title='Full length cDNA of Dictyostelium discoideum at the slug stage', ...)], 'comment': 'Contact: Tadasu Shin-i\\nGenome Biology Lab., Center For Genetic Resource Information\\nNational Institute of Genetics\\n1111 Yata, Mishima, Shizuoka 411-8540, Japan\\nTel: 81-55-981-6856\\nFax: 81-55-981-6855\\nEmail: tshini@genes.nig.ac.jp, URL: http://dolphin.lab.nig.ac.jp.'}, {'molecule_type': 'mRNA', 'topology': 'linear', 'data_file_division': 'EST', 'date': '09-JUL-2001', 'accessions': ['BI164854'], 'sequence_version': 1, 'keywords': ['EST'], 'source': 'Drosophila melanogaster (fruit fly)', 'organism': 'Drosophila melanogaster', 'taxonomy': ['Eukaryota', 'Metazoa', 'Ecdysozoa', 'Arthropoda', 'Hexapoda', 'Insecta', 'Pterygota', 'Neoptera', 'Holometabola', 'Diptera', 'Brachycera', 'Muscomorpha', 'Ephydroidea', 'Drosophilidae', 'Drosophila', 'Sophophora'], 'references': [Reference(title='BDGP/HHMI RE Drosophila EST Project', ...)], 'comment': 'Contact: Carlson, J.\\nBDGP\\nLawrence Berkeley National Lab\\nOne Cyclotron Rd, Berkeley, CA 94720, USA\\nFax: 510 486 7571\\nEmail: http://www.fruitfly.org/EST/index.shtml, cdna@fruitfly.org\\nhit genomic AE003613: arm:2L [6134950,6396821]\\nestimated-cyto:26B11-26D7: 04/11/2001\\nPlate: RE.46  row: A  column: 12\\nHigh quality sequence stop: 399.'}]\n"
          ],
          "name": "stdout"
        }
      ]
    }
  ]
}