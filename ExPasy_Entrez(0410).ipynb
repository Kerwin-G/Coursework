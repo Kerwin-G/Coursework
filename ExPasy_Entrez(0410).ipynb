{
  "nbformat": 4,
  "nbformat_minor": 0,
  "metadata": {
    "colab": {
      "name": "ExPasy_Entrez(0410).ipynb",
      "provenance": [],
      "authorship_tag": "ABX9TyMWrsl+HRpFmaLnXQ8W716d",
      "include_colab_link": true
    },
    "kernelspec": {
      "name": "python3",
      "display_name": "Python 3"
    }
  },
  "cells": [
    {
      "cell_type": "markdown",
      "metadata": {
        "id": "view-in-github",
        "colab_type": "text"
      },
      "source": [
        "<a href=\"https://colab.research.google.com/github/Kerwin-G/Coursework/blob/main/ExPasy_Entrez(0410).ipynb\" target=\"_parent\"><img src=\"https://colab.research.google.com/assets/colab-badge.svg\" alt=\"Open In Colab\"/></a>"
      ]
    },
    {
      "cell_type": "markdown",
      "metadata": {
        "id": "DExkXgi9G4Wl"
      },
      "source": [
        "**The Code Below demonstrates DNA Object fetches using Entrez Swiss prot method & expasy**"
      ]
    },
    {
      "cell_type": "code",
      "metadata": {
        "colab": {
          "base_uri": "https://localhost:8080/"
        },
        "id": "cIQbDiRt4s3j",
        "outputId": "c0d6c98f-66b8-47e1-f94c-0d9673a97660"
      },
      "source": [
        "!pip install biopython\n",
        "\n",
        "from Bio import ExPASy\n",
        "from Bio import SeqIO \n",
        "from Bio import Entrez\n",
        "\n",
        "#Entrez\n",
        "Entrez.email = 'kerwin.george14@myhunter.cuny.edu'\n",
        "socketObj = Entrez.efetch(db=\"protein\", rettype=\"fasta\", id=\"71066806\")\n",
        "dnaObj = SeqIO.read(socketObj, \"fasta\")\n",
        "socketObj.close()\n",
        "print(\" \")\n",
        "print(\"Description:\")\n",
        "print(dnaObj.description)\n",
        "print(\"Sequence:\")\n",
        "print(dnaObj.seq)\n",
        "\n",
        "#SWISSPROT\n",
        "print (\" \")\n",
        "socketObj = ExPASy.get_sprot_raw('HBB_HUMAN')\n",
        "proteinObj = SeqIO.read(socketObj, \"swiss\")\n",
        "socketObj.close()\n",
        "print(\"Description:\")\n",
        "print(proteinObj.description)\n",
        "print(\"Protein Sequence:\")\n",
        "print(proteinObj.seq)"
      ],
      "execution_count": null,
      "outputs": [
        {
          "output_type": "stream",
          "text": [
            "Requirement already satisfied: biopython in /usr/local/lib/python3.7/dist-packages (1.78)\n",
            "Requirement already satisfied: numpy in /usr/local/lib/python3.7/dist-packages (from biopython) (1.19.5)\n",
            "Description\n",
            "AAZ22675.1 HBB/D [Elephas maximus]\n",
            "Sequence\n",
            "MVNLTAAEKTQVTNLWGKVNVKELGGEALSRLLVVYPWTRRFFEHFGDLSTADAVLHNAKVLAHGEKVLTSFGEGLKHLDNLKGTFADLSELHCDKLHVDPENFRLLGNVLVIVLARHFGKEFTPDVQAAYEKVVAGVANALAHKYH\n",
            " \n",
            "RecName: Full=Hemoglobin subunit beta; AltName: Full=Beta-globin; AltName: Full=Hemoglobin beta chain; Contains: RecName: Full=LVV-hemorphin-7; Contains: RecName: Full=Spinorphin;\n",
            " \n",
            "MVHLTPEEKSAVTALWGKVNVDEVGGEALGRLLVVYPWTQRFFESFGDLSTPDAVMGNPKVKAHGKKVLGAFSDGLAHLDNLKGTFATLSELHCDKLHVDPENFRLLGNVLVCVLAHHFGKEFTPPVQAAYQKVVAGVANALAHKYH\n"
          ],
          "name": "stdout"
        }
      ]
    },
    {
      "cell_type": "code",
      "metadata": {
        "colab": {
          "base_uri": "https://localhost:8080/"
        },
        "id": "V8O0mYqbDT2t",
        "outputId": "057cd86c-b87e-4135-aeb6-d2408151e313"
      },
      "source": [
        "from Bio import ExPASy\n",
        "socketObj = ExPASy.get_sprot_raw('HBB_HUMAN')\n",
        "proteinObj = SeqIO.read(socketObj, \"swiss\")\n",
        "socketObj.close()\n",
        "protOb=(proteinObj.description)\n",
        "protOb=protOb.replace(\";\",\",\")\n",
        "protOb=protOb[:(len(protOb)-1)]\n",
        "protOb=protOb.replace(\"RecName\",\"\\\"RecName\\\"\")\n",
        "protOb=protOb.replace(\"AltName\",\"\\\"AltName\\\"\")\n",
        "protOb=protOb.replace(\"Contains:\",\"\")\n",
        "protDict={protOb}\n",
        "seq=(proteinObj.seq)\n",
        "print(seq)\n",
        "MolW=estimateMolMass(seq)\n",
        "print(\"The Molecular Weight is: \",estimateMolMass(seq))\n",
        "protDict.update({\"MolWeight\": MolW})\n",
        "\n",
        "print(protDict)\n",
        "type (protDict)\n",
        "\n",
        "def estimateMolMass(seq, molType='protein'):\n",
        "   \"\"\"Calculate the molecular weight of a biological sequence assuming \n",
        "    normal isotopic ratios and protonation/modification states\"\"\"\n",
        "   residueMasses ={\n",
        "        \"DNA\": {\"G\":329.21, \"C\":289.18, \"A\":323.21, \"T\":304.19},\n",
        "        \"RNA\": {\"G\":345.21, \"C\":305.18, \"A\":329.21, \"U\":302.16},\n",
        "        \"protein\": {\"A\": 71.07, \"R\":156.18, \"N\":114.08, \"D\":115.08,\n",
        "                    \"C\":103.10, \"Q\":128.13, \"E\":129.11, \"G\": 57.05,\n",
        "                    \"H\":137.14, \"I\":113.15, \"L\":113.15, \"K\":128.17,\n",
        "                    \"M\":131.19, \"F\":147.17, \"P\": 97.11, \"S\": 87.07,\n",
        "                    \"T\":101.10, \"W\":186.20, \"Y\":163.17, \"V\": 99.13}}\n",
        "   massDict = residueMasses[molType]\n",
        " # Begin with mass of extra end atoms H + OH\n",
        "   molMass = 18.02\n",
        "   for letter in seq:\n",
        "      molMass += massDict.get(letter, 0.0)\n",
        "   return molMass"
      ],
      "execution_count": null,
      "outputs": [
        {
          "output_type": "stream",
          "text": [
            "MVHLTPEEKSAVTALWGKVNVDEVGGEALGRLLVVYPWTQRFFESFGDLSTPDAVMGNPKVKAHGKKVLGAFSDGLAHLDNLKGTFATLSELHCDKLHVDPENFRLLGNVLVCVLAHHFGKEFTPPVQAAYQKVVAGVANALAHKYH\n",
            "The Molecular Weight is:  15997.409999999985\n",
            "{'MolWeight', '\"RecName\": Full=Hemoglobin subunit beta, \"AltName\": Full=Beta-globin, \"AltName\": Full=Hemoglobin beta chain,  \"RecName\": Full=LVV-hemorphin-7,  \"RecName\": Full=Spinorphin'}\n"
          ],
          "name": "stdout"
        }
      ]
    }
  ]
}