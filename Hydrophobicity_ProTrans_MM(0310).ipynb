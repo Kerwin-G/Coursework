{
  "nbformat": 4,
  "nbformat_minor": 0,
  "metadata": {
    "colab": {
      "name": "Hydrophobicity_ProTrans_MM(0310).ipynb",
      "provenance": [],
      "collapsed_sections": [],
      "authorship_tag": "ABX9TyN5j2wa0hCIWCSDnT7i17L+",
      "include_colab_link": true
    },
    "kernelspec": {
      "name": "python3",
      "display_name": "Python 3"
    }
  },
  "cells": [
    {
      "cell_type": "markdown",
      "metadata": {
        "id": "view-in-github",
        "colab_type": "text"
      },
      "source": [
        "<a href=\"https://colab.research.google.com/github/Kerwin-G/Coursework/blob/main/Hydrophobicity_ProTrans_MM(0310).ipynb\" target=\"_parent\"><img src=\"https://colab.research.google.com/assets/colab-badge.svg\" alt=\"Open In Colab\"/></a>"
      ]
    },
    {
      "cell_type": "markdown",
      "metadata": {
        "id": "qNVKwxnzB-Bz"
      },
      "source": [
        "The Code below shows:\n",
        "\n",
        "\n",
        "*   Hydrophobicity\n",
        "*   Protein Translation\n",
        "*   Molecular Mass\n",
        "\n"
      ]
    },
    {
      "cell_type": "code",
      "metadata": {
        "id": "HCBxa6W_tRX5"
      },
      "source": [
        "#Hydrophobicity, Protein Translation, Molecular Mass\n",
        "print(\"Input DNA Sequence\")\n",
        "dnaSeq=str(input())\n",
        "STANDARD_GENETIC_CODE = {\n",
        " 'UUU':'Phe', 'UUC':'Phe', 'UCU':'Ser', 'UCC':'Ser',\n",
        " 'UAU':'Tyr', 'UAC':'Tyr', 'UGU':'Cys', 'UGC':'Cys',\n",
        " 'UUA':'Leu', 'UCA':'Ser', 'UAA':None, 'UGA':None,\n",
        " 'UUG':'Leu', 'UCG':'Ser', 'UAG':None, 'UGG':'Trp',\n",
        " 'CUU':'Leu', 'CUC':'Leu', 'CCU':'Pro', 'CCC':'Pro',\n",
        " 'CAU':'His', 'CAC':'His', 'CGU':'Arg', 'CGC':'Arg',\n",
        " 'CUA':'Leu', 'CUG':'Leu', 'CCA':'Pro', 'CCG':'Pro',\n",
        " 'CAA':'Gln', 'CAG':'Gln', 'CGA':'Arg', 'CGG':'Arg',\n",
        " 'AUU':'Ile', 'AUC':'Ile', 'ACU':'Thr', 'ACC':'Thr',\n",
        " 'AAU':'Asn', 'AAC':'Asn', 'AGU':'Ser', 'AGC':'Ser',\n",
        " 'AUA':'Ile', 'ACA':'Thr', 'AAA':'Lys', 'AGA':'Arg',\n",
        " 'AUG':'Met', 'ACG':'Thr', 'AAG':'Lys', 'AGG':'Arg',\n",
        " 'GUU':'Val', 'GUC':'Val', 'GCU':'Ala', 'GCC':'Ala',\n",
        " 'GAU':'Asp', 'GAC':'Asp', 'GGU':'Gly', 'GGC':'Gly',\n",
        " 'GUA':'Val', 'GUG':'Val', 'GCA':'Ala', 'GCG':'Ala',\n",
        " 'GAA':'Glu', 'GAG':'Glu', 'GGA':'Gly', 'GGG':'Gly'}\n",
        "\n",
        "GES_SCALE = {'F':-3.7,'M':-3.4,'I':-3.1,'L':-2.8,'V':-2.6,\n",
        " 'C':-2.0,'W':-1.9,'A':-1.6,'T':-1.2,'G':-1.0,\n",
        " 'S':-0.6,'P': 0.2,'Y': 0.7,'H': 3.0,'Q': 4.1,\n",
        " 'N': 4.8,'E': 8.2,'K': 8.8,'D': 9.2,'R':12.3}\n",
        "\n",
        "print(\"RNA Sequence: \", RNA(dnaSeq))\n",
        "\n",
        "print(\"Protein: \", proteinTranslation(dnaSeq, STANDARD_GENETIC_CODE))\n",
        "#x= RNA(dnaSeq)\n",
        "print(\"Molecular Mass: \",estimateMolMass(dnaSeq,molType='DNA'))\n",
        "\n",
        "print(\"Hydrophobicity: \",hydrophobicitySearch(dnaSeq,GES_SCALE,winSize=21))\n",
        "\n",
        "def RNA(Dseq):\n",
        "  rnaSeq = Dseq.replace('T','U')\n",
        "  return rnaSeq\n",
        "\n",
        "def proteinTranslation(seq, geneticCode):\n",
        " \"\"\" This function translates a nucleic acid sequence into a\n",
        " protein sequence, until the end or until it comes across\n",
        " a stop codon \"\"\"\n",
        " seq = seq.replace('T','U') # Make sure we have RNA sequence\n",
        " proteinSeq = []\n",
        " i = 0\n",
        " while i+2 < len(seq):\n",
        "   codon = seq[i:i+3]\n",
        "   aminoAcid = geneticCode[codon]\n",
        "   if aminoAcid is None: # Found stop codon\n",
        "     break\n",
        "   proteinSeq.append(aminoAcid)\n",
        "   i += 3\n",
        " return proteinSeq\n",
        "\n",
        " def estimateMolMass(seq, molType='protein'):\n",
        "   \"\"\"Calculate the molecular weight of a biological sequence assuming \n",
        "    normal isotopic ratios and protonation/modification states\"\"\"\n",
        "   residueMasses ={\n",
        "        \"DNA\": {\"G\":329.21, \"C\":289.18, \"A\":323.21, \"T\":304.19},\n",
        "        \"RNA\": {\"G\":345.21, \"C\":305.18, \"A\":329.21, \"U\":302.16},\n",
        "        \"protein\": {\"A\": 71.07, \"R\":156.18, \"N\":114.08, \"D\":115.08,\n",
        "                    \"C\":103.10, \"Q\":128.13, \"E\":129.11, \"G\": 57.05,\n",
        "                    \"H\":137.14, \"I\":113.15, \"L\":113.15, \"K\":128.17,\n",
        "                    \"M\":131.19, \"F\":147.17, \"P\": 97.11, \"S\": 87.07,\n",
        "                    \"T\":101.10, \"W\":186.20, \"Y\":163.17, \"V\": 99.13}}\n",
        "   massDict = residueMasses[molType]\n",
        " # Begin with mass of extra end atoms H + OH\n",
        "   molMass = 18.02\n",
        "   for letter in seq:\n",
        "      molMass += massDict.get(letter, 0.0)\n",
        "   return molMass\n",
        "\n",
        "def hydrophobicitySearch(seq, scale, winSize=15):\n",
        "  score = None\n",
        "  scoreList = []\n",
        "  for i in range(len(seq)- winSize):\n",
        "    j = i + winSize\n",
        "    if score is None:\n",
        "      score = 0\n",
        "      for k in range(i,j):\n",
        "        score += scale[seq[k]]\n",
        "    else:\n",
        "      score += scale[seq[j-1]]\n",
        "      score -= scale[seq[i-1]]\n",
        "      scoreList.append(score)\n",
        "  return scoreList"
      ],
      "execution_count": null,
      "outputs": []
    },
    {
      "cell_type": "code",
      "metadata": {
        "colab": {
          "base_uri": "https://localhost:8080/"
        },
        "id": "AD2BXD5O6xUf",
        "outputId": "71974f37-d8ad-468b-8486-aea08df2a9ff"
      },
      "source": [
        "print(\"Input DNA Sequence\")\n",
        "dnaSeq=str(input())\n",
        "STANDARD_GENETIC_CODE = {\n",
        " 'UUU':'Phe', 'UUC':'Phe', 'UCU':'Ser', 'UCC':'Ser',\n",
        " 'UAU':'Tyr', 'UAC':'Tyr', 'UGU':'Cys', 'UGC':'Cys',\n",
        " 'UUA':'Leu', 'UCA':'Ser', 'UAA':None, 'UGA':None,\n",
        " 'UUG':'Leu', 'UCG':'Ser', 'UAG':None, 'UGG':'Trp',\n",
        " 'CUU':'Leu', 'CUC':'Leu', 'CCU':'Pro', 'CCC':'Pro',\n",
        " 'CAU':'His', 'CAC':'His', 'CGU':'Arg', 'CGC':'Arg',\n",
        " 'CUA':'Leu', 'CUG':'Leu', 'CCA':'Pro', 'CCG':'Pro',\n",
        " 'CAA':'Gln', 'CAG':'Gln', 'CGA':'Arg', 'CGG':'Arg',\n",
        " 'AUU':'Ile', 'AUC':'Ile', 'ACU':'Thr', 'ACC':'Thr',\n",
        " 'AAU':'Asn', 'AAC':'Asn', 'AGU':'Ser', 'AGC':'Ser',\n",
        " 'AUA':'Ile', 'ACA':'Thr', 'AAA':'Lys', 'AGA':'Arg',\n",
        " 'AUG':'Met', 'ACG':'Thr', 'AAG':'Lys', 'AGG':'Arg',\n",
        " 'GUU':'Val', 'GUC':'Val', 'GCU':'Ala', 'GCC':'Ala',\n",
        " 'GAU':'Asp', 'GAC':'Asp', 'GGU':'Gly', 'GGC':'Gly',\n",
        " 'GUA':'Val', 'GUG':'Val', 'GCA':'Ala', 'GCG':'Ala',\n",
        " 'GAA':'Glu', 'GAG':'Glu', 'GGA':'Gly', 'GGG':'Gly'}\n",
        "\n",
        "print(\"Protein: \", proteinTranslation(dnaSeq, STANDARD_GENETIC_CODE))\n",
        "\n",
        "print(\"Molecular Mass: \",estimateMolMass(dnaSeq,molType='protein'))\n",
        "\n",
        "print(\"RNA Sequence: \", RNA(dnaSeq))\n",
        "\n",
        "def RNA(Dseq):\n",
        "  rnaSeq = Dseq.replace('T','U')\n",
        "  return rnaSeq\n",
        "\n",
        "def proteinTranslation(seq, geneticCode):\n",
        " \"\"\" This function translates a nucleic acid sequence into a\n",
        " protein sequence, until the end or until it comes across\n",
        " a stop codon \"\"\"\n",
        " seq = seq.replace('T','U') # Make sure we have RNA sequence\n",
        " proteinSeq = []\n",
        " i = 0\n",
        " while i+2 < len(seq):\n",
        "   codon = seq[i:i+3]\n",
        "   aminoAcid = geneticCode[codon]\n",
        "   if aminoAcid is None: # Found stop codon\n",
        "     break\n",
        "   proteinSeq.append(aminoAcid)\n",
        "   i += 3\n",
        " return proteinSeq\n",
        "\n",
        " def estimateMolMass(seq, molType='protein'):\n",
        "   \"\"\"Calculate the molecular weight of a biological sequence assuming \n",
        "    normal isotopic ratios and protonation/modification states\"\"\"\n",
        "   residueMasses ={\n",
        "        \"DNA\": {\"G\":329.21, \"C\":289.18, \"A\":323.21, \"T\":304.19},\n",
        "        \"RNA\": {\"G\":345.21, \"C\":305.18, \"A\":329.21, \"U\":302.16},\n",
        "        \"protein\": {\"A\": 71.07, \"R\":156.18, \"N\":114.08, \"D\":115.08,\n",
        "                    \"C\":103.10, \"Q\":128.13, \"E\":129.11, \"G\": 57.05,\n",
        "                    \"H\":137.14, \"I\":113.15, \"L\":113.15, \"K\":128.17,\n",
        "                    \"M\":131.19, \"F\":147.17, \"P\": 97.11, \"S\": 87.07,\n",
        "                    \"T\":101.10, \"W\":186.20, \"Y\":163.17, \"V\": 99.13}}\n",
        "   massDict = residueMasses[molType]\n",
        " # Begin with mass of extra end atoms H + OH\n",
        "   molMass = 18.02\n",
        "   for letter in seq:\n",
        "      molMass += massDict.get(letter, 0.0)\n",
        "   return molMass\n",
        "\n"
      ],
      "execution_count": null,
      "outputs": [
        {
          "output_type": "stream",
          "text": [
            "Input DNA Sequence\n",
            "T\n",
            "RNA Sequence:  U\n",
            "Protein:  []\n",
            "Molecular Mass:  119.11999999999999\n"
          ],
          "name": "stdout"
        }
      ]
    },
    {
      "cell_type": "code",
      "metadata": {
        "colab": {
          "base_uri": "https://localhost:8080/"
        },
        "id": "-v6AvRRt5T-J",
        "outputId": "f1d709c2-47c0-4b03-f30a-cc05c68be7f4"
      },
      "source": [
        "print(\"Input DNA Sequence\")\n",
        "dnaSeq=str(input())\n",
        "STANDARD_GENETIC_CODE = {\n",
        " 'UUU':'Phe', 'UUC':'Phe', 'UCU':'Ser', 'UCC':'Ser',\n",
        " 'UAU':'Tyr', 'UAC':'Tyr', 'UGU':'Cys', 'UGC':'Cys',\n",
        " 'UUA':'Leu', 'UCA':'Ser', 'UAA':None, 'UGA':None,\n",
        " 'UUG':'Leu', 'UCG':'Ser', 'UAG':None, 'UGG':'Trp',\n",
        " 'CUU':'Leu', 'CUC':'Leu', 'CCU':'Pro', 'CCC':'Pro',\n",
        " 'CAU':'His', 'CAC':'His', 'CGU':'Arg', 'CGC':'Arg',\n",
        " 'CUA':'Leu', 'CUG':'Leu', 'CCA':'Pro', 'CCG':'Pro',\n",
        " 'CAA':'Gln', 'CAG':'Gln', 'CGA':'Arg', 'CGG':'Arg',\n",
        " 'AUU':'Ile', 'AUC':'Ile', 'ACU':'Thr', 'ACC':'Thr',\n",
        " 'AAU':'Asn', 'AAC':'Asn', 'AGU':'Ser', 'AGC':'Ser',\n",
        " 'AUA':'Ile', 'ACA':'Thr', 'AAA':'Lys', 'AGA':'Arg',\n",
        " 'AUG':'Met', 'ACG':'Thr', 'AAG':'Lys', 'AGG':'Arg',\n",
        " 'GUU':'Val', 'GUC':'Val', 'GCU':'Ala', 'GCC':'Ala',\n",
        " 'GAU':'Asp', 'GAC':'Asp', 'GGU':'Gly', 'GGC':'Gly',\n",
        " 'GUA':'Val', 'GUG':'Val', 'GCA':'Ala', 'GCG':'Ala',\n",
        " 'GAA':'Glu', 'GAG':'Glu', 'GGA':'Gly', 'GGG':'Gly'}\n",
        "\n",
        "def estimateMolMass(seq, molType='protein'):\n",
        "   \"\"\"Calculate the molecular weight of a biological sequence assuming \n",
        "    normal isotopic ratios and protonation/modification states\"\"\"\n",
        "   residueMasses ={\n",
        "        \"DNA\": {\"G\":329.21, \"C\":289.18, \"A\":323.21, \"T\":304.19},\n",
        "        \"RNA\": {\"G\":345.21, \"C\":305.18, \"A\":329.21, \"U\":302.16},\n",
        "        \"protein\": {\"A\": 71.07, \"R\":156.18, \"N\":114.08, \"D\":115.08,\n",
        "                    \"C\":103.10, \"Q\":128.13, \"E\":129.11, \"G\": 57.05,\n",
        "                    \"H\":137.14, \"I\":113.15, \"L\":113.15, \"K\":128.17,\n",
        "                    \"M\":131.19, \"F\":147.17, \"P\": 97.11, \"S\": 87.07,\n",
        "                    \"T\":101.10, \"W\":186.20, \"Y\":163.17, \"V\": 99.13}}\n",
        "   massDict = residueMasses[molType]\n",
        " # Begin with mass of extra end atoms H + OH\n",
        "   molMass = 18.02\n",
        "   for letter in seq:\n",
        "      molMass += massDict.get(letter, 0.0)\n",
        "   return molMass\n",
        "\n",
        "print(estimateMolMass(dnaSeq, molType='protein'))"
      ],
      "execution_count": null,
      "outputs": [
        {
          "output_type": "stream",
          "text": [
            "Input DNA Sequence\n",
            "TTT\n",
            "321.31999999999994\n"
          ],
          "name": "stdout"
        }
      ]
    },
    {
      "cell_type": "code",
      "metadata": {
        "colab": {
          "base_uri": "https://localhost:8080/"
        },
        "id": "7gTBEM2OZPyd",
        "outputId": "e2794997-6dcf-4f9b-abb1-76f3f979c6ed"
      },
      "source": [
        "STANDARD_GENETIC_CODE = {\n",
        " 'UUU':'Phe', 'UUC':'Phe', 'UCU':'Ser', 'UCC':'Ser',\n",
        " 'UAU':'Tyr', 'UAC':'Tyr', 'UGU':'Cys', 'UGC':'Cys',\n",
        " 'UUA':'Leu', 'UCA':'Ser', 'UAA':None, 'UGA':None,\n",
        " 'UUG':'Leu', 'UCG':'Ser', 'UAG':None, 'UGG':'Trp',\n",
        " 'CUU':'Leu', 'CUC':'Leu', 'CCU':'Pro', 'CCC':'Pro',\n",
        " 'CAU':'His', 'CAC':'His', 'CGU':'Arg', 'CGC':'Arg',\n",
        " 'CUA':'Leu', 'CUG':'Leu', 'CCA':'Pro', 'CCG':'Pro',\n",
        " 'CAA':'Gln', 'CAG':'Gln', 'CGA':'Arg', 'CGG':'Arg',\n",
        " 'AUU':'Ile', 'AUC':'Ile', 'ACU':'Thr', 'ACC':'Thr',\n",
        " 'AAU':'Asn', 'AAC':'Asn', 'AGU':'Ser', 'AGC':'Ser',\n",
        " 'AUA':'Ile', 'ACA':'Thr', 'AAA':'Lys', 'AGA':'Arg',\n",
        " 'AUG':'Met', 'ACG':'Thr', 'AAG':'Lys', 'AGG':'Arg',\n",
        " 'GUU':'Val', 'GUC':'Val', 'GCU':'Ala', 'GCC':'Ala',\n",
        " 'GAU':'Asp', 'GAC':'Asp', 'GGU':'Gly', 'GGC':'Gly',\n",
        " 'GUA':'Val', 'GUG':'Val', 'GCA':'Ala', 'GCG':'Ala',\n",
        " 'GAA':'Glu', 'GAG':'Glu', 'GGA':'Gly', 'GGG':'Gly'}\n",
        "type(STANDARD_GENETIC_CODE)"
      ],
      "execution_count": null,
      "outputs": [
        {
          "output_type": "execute_result",
          "data": {
            "text/plain": [
              "dict"
            ]
          },
          "metadata": {
            "tags": []
          },
          "execution_count": 3
        }
      ]
    }
  ]
}