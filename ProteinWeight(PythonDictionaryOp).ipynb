{
  "nbformat": 4,
  "nbformat_minor": 0,
  "metadata": {
    "colab": {
      "name": "ProteinWeight(PythonDictionaryOp).ipynb",
      "provenance": [],
      "collapsed_sections": [],
      "authorship_tag": "ABX9TyOBrsZSa52OcV4YrSfeVEyz",
      "include_colab_link": true
    },
    "kernelspec": {
      "name": "python3",
      "display_name": "Python 3"
    }
  },
  "cells": [
    {
      "cell_type": "markdown",
      "metadata": {
        "id": "view-in-github",
        "colab_type": "text"
      },
      "source": [
        "<a href=\"https://colab.research.google.com/github/Kerwin-G/Coursework/blob/main/ProteinWeight(PythonDictionaryOp).ipynb\" target=\"_parent\"><img src=\"https://colab.research.google.com/assets/colab-badge.svg\" alt=\"Open In Colab\"/></a>"
      ]
    },
    {
      "cell_type": "markdown",
      "metadata": {
        "id": "tDlUSHXx8Ztl"
      },
      "source": [
        "**The code below demonstrates simple use of Python dictionary operations to calculate molecular weight and DNA codon translation.**"
      ]
    },
    {
      "cell_type": "code",
      "metadata": {
        "colab": {
          "base_uri": "https://localhost:8080/"
        },
        "id": "GFgUPQKFJgZh",
        "outputId": "6fb90175-165b-448c-8a18-d7d5a0ddfec0"
      },
      "source": [
        "#Obtain protein Weight from string after translation\n",
        "protseq_string='AWGSSNDHRR'\n",
        "protseq=list(protseq_string)\n",
        "print(protoseq)\n",
        "protweight = {\"A\":89,\"W\":204,\"G\":75,\"S\":105,\"N\":132,\"D\":133,\"H\":155,\"R\":174}\n",
        "totalW=0\n",
        "for aa in protseq:\n",
        "  for key, value in protweight.items():\n",
        "    if key == aa:\n",
        "      totalW+=value\n",
        "print(\"Total Weight = \",totalW)"
      ],
      "execution_count": null,
      "outputs": [
        {
          "output_type": "stream",
          "text": [
            "['A', 'W', 'G', 'S', 'S', 'N', 'D', 'H', 'R', 'R']\n",
            "Total Weight =  1346\n"
          ],
          "name": "stdout"
        }
      ]
    },
    {
      "cell_type": "code",
      "metadata": {
        "colab": {
          "base_uri": "https://localhost:8080/"
        },
        "id": "3E7nqgNyfeYK",
        "outputId": "5a4f9005-007a-4ad7-c213-e2354317acaa"
      },
      "source": [
        "#Codon dictionary for protein translation and molecular weight calculation\n",
        "DNACod=['CTT','Leu','CTG','Pro','CAT','His','CAA','Gin','CGC','Arg']\n",
        "MW={'Arg':89,'Pro':105,'His':155,'Leu':131,'Gin':75}\n",
        "Cod=DNACod[::2]\n",
        "aa=DNACod[1::2]\n",
        "CodDict={Cod[i]:aa[i] for i in range(len(Cod))}\n",
        "print(\" \")\n",
        "for key, value in CodDict.items():\n",
        "  for k,v in MW.items(): \n",
        "    if value==k: \n",
        "      fin={key:[value,v]}\n",
        "      print(fin)"
      ],
      "execution_count": null,
      "outputs": [
        {
          "output_type": "stream",
          "text": [
            " \n",
            "{'CTT': ['Leu', 131]}\n",
            "{'CTG': ['Pro', 105]}\n",
            "{'CAT': ['His', 155]}\n",
            "{'CAA': ['Gin', 75]}\n",
            "{'CGC': ['Arg', 89]}\n"
          ],
          "name": "stdout"
        }
      ]
    },
    {
      "cell_type": "code",
      "metadata": {
        "id": "WFRZFH6Z3r-t"
      },
      "source": [
        ""
      ],
      "execution_count": null,
      "outputs": []
    }
  ]
}